{
 "cells": [
  {
   "cell_type": "markdown",
   "metadata": {},
   "source": [
    "# Limit LSS covariance matrix check\n",
    "The GPY test requires to compute the covariance matrix of the LSSs in the limit where N,M tends to infinity at some specified rate M/N=c.\n",
    "\n",
    "The computation of this matrix is not trivial, so this notebook is used as an additional check. "
   ]
  },
  {
   "cell_type": "code",
   "execution_count": 1,
   "metadata": {},
   "outputs": [],
   "source": [
    "from gpy_test import GPY\n",
    "from gpy_test.result import GPYResult\n",
    "\n",
    "from statsmodels.tsa.arima_process import arma_generate_sample\n",
    "\n",
    "from joblib import Parallel, delayed\n",
    "from tqdm import tqdm\n",
    "\n",
    "import numpy as np"
   ]
  },
  {
   "cell_type": "code",
   "execution_count": 45,
   "metadata": {},
   "outputs": [],
   "source": [
    "# the complex gaussian time series will be ARMA(1,1) with the following parameters\n",
    "ar = 0.4\n",
    "ma = 0.3\n",
    "N = 1000  # number of samples\n",
    "M = 5000  # number of time series\n",
    "burn = 100\n",
    "\n",
    "c = M / N\n",
    "\n",
    "# for the GPY test, we will use the following test functions\n",
    "fs = [lambda x: x, lambda x: x**2]"
   ]
  },
  {
   "cell_type": "markdown",
   "metadata": {},
   "source": [
    "# Empirical covariance"
   ]
  },
  {
   "cell_type": "code",
   "execution_count": 44,
   "metadata": {},
   "outputs": [
    {
     "name": "stderr",
     "output_type": "stream",
     "text": []
    },
    {
     "name": "stderr",
     "output_type": "stream",
     "text": [
      "100%|██████████| 1000/1000 [00:29<00:00, 34.36it/s]\n"
     ]
    }
   ],
   "source": [
    "def run() -> GPYResult:\n",
    "    real = arma_generate_sample([1, -ar], [1, ma], (N + burn, M), scale=1 / np.sqrt(2))\n",
    "    imag = arma_generate_sample([1, -ar], [1, ma], (N + burn, M), scale=1 / np.sqrt(2))\n",
    "    y = real + 1j * imag\n",
    "    # y = real * np.sqrt(2)\n",
    "    assert y.shape == (N + burn, M)\n",
    "    return GPY(y[burn:], fs)\n",
    "\n",
    "\n",
    "# Generate a large number of experiments\n",
    "n_repeat = 1000\n",
    "results = Parallel(n_jobs=-1)(delayed(run)() for _ in tqdm(range(n_repeat)))\n",
    "LSSs = np.array([result.LSSs_diff for result in results])"
   ]
  },
  {
   "cell_type": "code",
   "execution_count": 46,
   "metadata": {},
   "outputs": [
    {
     "data": {
      "text/plain": [
       "array([[   22.68708632,   480.29593824],\n",
       "       [  480.29593824, 11367.08259404]])"
      ]
     },
     "execution_count": 46,
     "metadata": {},
     "output_type": "execute_result"
    }
   ],
   "source": [
    "sample_cov = np.cov(LSSs.T)\n",
    "sample_cov"
   ]
  },
  {
   "cell_type": "markdown",
   "metadata": {},
   "source": [
    "## With Stieltjes transform estimate"
   ]
  },
  {
   "cell_type": "code",
   "execution_count": 50,
   "metadata": {},
   "outputs": [],
   "source": [
    "real = arma_generate_sample(\n",
    "    [1, -ar], [1, ma], (N + burn, int(M / 2)), scale=1 / np.sqrt(2)\n",
    ")\n",
    "imag = arma_generate_sample(\n",
    "    [1, -ar], [1, ma], (N + burn, int(M / 2)), scale=1 / np.sqrt(2)\n",
    ")\n",
    "y = real + 1j * imag"
   ]
  },
  {
   "cell_type": "code",
   "execution_count": 51,
   "metadata": {},
   "outputs": [
    {
     "data": {
      "text/plain": [
       "array([[   40.15783306,   819.89131786],\n",
       "       [  819.89131786, 18407.70873714]])"
      ]
     },
     "execution_count": 51,
     "metadata": {},
     "output_type": "execute_result"
    }
   ],
   "source": [
    "from gpy_test.covariance import compute_covariance\n",
    "\n",
    "half_covariance = y.conj().T @ y / N\n",
    "half_eigenvalues = np.linalg.eigvalsh(half_covariance)\n",
    "\n",
    "limit_cov = compute_covariance(\n",
    "    fs,\n",
    "    XTX_eigenvalues=half_eigenvalues,\n",
    "    c=int(M / 2) / N,\n",
    "    covariance_config=None,\n",
    ")\n",
    "\n",
    "limit_cov / 2 * 2"
   ]
  },
  {
   "cell_type": "code",
   "execution_count": 52,
   "metadata": {},
   "outputs": [
    {
     "data": {
      "text/plain": [
       "array([[1.7700745 , 1.70705445],\n",
       "       [1.70705445, 1.61938726]])"
      ]
     },
     "execution_count": 52,
     "metadata": {},
     "output_type": "execute_result"
    }
   ],
   "source": [
    "limit_cov / sample_cov"
   ]
  }
 ],
 "metadata": {
  "kernelspec": {
   "display_name": "Python 3",
   "language": "python",
   "name": "python3"
  },
  "language_info": {
   "codemirror_mode": {
    "name": "ipython",
    "version": 3
   },
   "file_extension": ".py",
   "mimetype": "text/x-python",
   "name": "python",
   "nbconvert_exporter": "python",
   "pygments_lexer": "ipython3",
   "version": "3.11.8"
  }
 },
 "nbformat": 4,
 "nbformat_minor": 2
}
